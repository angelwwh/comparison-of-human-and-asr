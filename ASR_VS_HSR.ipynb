{
  "nbformat": 4,
  "nbformat_minor": 0,
  "metadata": {
    "colab": {
      "provenance": [],
      "collapsed_sections": [
        "zIpRGiROikB3",
        "-jEVXK-8irbM",
        "jOHFtZr8jFyd",
        "oLAl4akXkN4L",
        "l6bA_QZVqz6w",
        "3SJ8UFmrtsyD",
        "el3Z8RYsuPoU",
        "dqF9QXw_u-2U",
        "ygi9Jpp2w55j",
        "rGpvNS4KxiwT",
        "-iuxfxM4zeyX",
        "VnHA3XJ50TeI",
        "WKq294qE0x6z"
      ],
      "toc_visible": true
    },
    "kernelspec": {
      "name": "python3",
      "display_name": "Python 3"
    },
    "language_info": {
      "name": "python"
    }
  },
  "cells": [
    {
      "cell_type": "markdown",
      "source": [
        "# Code dependencies"
      ],
      "metadata": {
        "id": "2cSKpm-S9Z59"
      }
    },
    {
      "cell_type": "markdown",
      "source": [
        "Import all necessary packages."
      ],
      "metadata": {
        "id": "73TTlr1xjg4V"
      }
    },
    {
      "cell_type": "code",
      "source": [
        "from google.colab import drive\n",
        "\n",
        "import json\n",
        "import time\n",
        "import os\n",
        "\n",
        "from os import path\n",
        "from io import BytesIO\n",
        "from base64 import b64decode\n",
        "from urllib.request import urlopen\n",
        "\n",
        "import pandas as pd\n",
        "import numpy as np\n",
        "import matplotlib.pyplot as plt\n",
        "%matplotlib inline\n",
        "\n",
        "from tensorflow.keras.models import Sequential, Model\n",
        "from tensorflow.keras.optimizers import Adam\n",
        "from tensorflow.keras.callbacks import EarlyStopping\n",
        "from tensorflow.keras.layers import Dense, Flatten, SimpleRNN, LSTM, GRU, Bidirectional, Dropout\n",
        "from tensorflow.keras.utils import to_categorical\n",
        "\n",
        "import librosa\n",
        "import librosa.util\n",
        "import librosa.display\n",
        "\n",
        "from IPython.display import HTML, display, Audio, Javascript\n",
        "\n",
        "!pip -q install pydub\n",
        "from pydub import AudioSegment\n",
        "\n",
        "import wave\n",
        "\n",
        "import shutil"
      ],
      "metadata": {
        "id": "NS5feivthDIi"
      },
      "execution_count": null,
      "outputs": []
    },
    {
      "cell_type": "markdown",
      "source": [
        "# Data files and directories"
      ],
      "metadata": {
        "id": "-JJmXcv19lVn"
      }
    },
    {
      "cell_type": "markdown",
      "source": [
        "Mount the directory of personal Google Drive to Google Colab to enable permanent storage."
      ],
      "metadata": {
        "id": "Ta34CaP6jlWS"
      }
    },
    {
      "cell_type": "code",
      "execution_count": null,
      "metadata": {
        "colab": {
          "base_uri": "https://localhost:8080/"
        },
        "id": "ArhLvp9-gSmQ",
        "outputId": "208d1aaa-479c-461b-b065-183e167f8bb4"
      },
      "outputs": [
        {
          "output_type": "stream",
          "name": "stdout",
          "text": [
            "Mounted at /content/drive\n"
          ]
        }
      ],
      "source": [
        "# Mount directory of personal Google Drive to Google Colab to enable permanent storage.\n",
        "drive.mount(\"/content/drive\")\n",
        "# Change NOTEBOOK_DIR depending on where you have saved this notebook.\n",
        "NOTEBOOK_DIR = \"/content/drive/MyDrive/\"\n",
        "# For example, the variable below stores the absolute file path to this notebook.\n",
        "NOTEBOOK_FILEPATH = os.path.join(NOTEBOOK_DIR, \"ASR_VS_HSR.ipynb\")"
      ]
    },
    {
      "cell_type": "markdown",
      "source": [
        "Locate the directory where all the test data files are stored."
      ],
      "metadata": {
        "id": "eTE_-KQn9yll"
      }
    },
    {
      "cell_type": "code",
      "source": [
        "# Change TEST_DATA_DIR depending on how your test data folder is structured.\n",
        "TEST_DATA_DIR = os.path.join(NOTEBOOK_DIR, \"TIMIT\", \"TIMIT\", \"TEST\")\n",
        "SOUND_FILES_DIR = os.path.join(NOTEBOOK_DIR, \"TIMIT-cut-sounds\")\n",
        "MAPPED_SOUND_FILES_DIR = os.path.join(NOTEBOOK_DIR, \"TIMIT-mapped-cut-sounds\")\n",
        "\n",
        "DF_FILEPATH = os.path.join(NOTEBOOK_DIR, \"TIMIT-arpabets.csv\")\n",
        "SOUND_FILES_DF_FILEPATH = os.path.join(NOTEBOOK_DIR, \"TIMIT-cut-sounds.csv\")\n",
        "SOUND_FILES_STATS_DF_FILEPATH = os.path.join(NOTEBOOK_DIR, \"TIMIT-cut-sounds-stats.csv\")\n",
        "MAPPED_SOUND_FILES_DF_FILEPATH = os.path.join(NOTEBOOK_DIR, \"TIMIT-mapped-cut-sounds.csv\")"
      ],
      "metadata": {
        "id": "03wXr9ldZEuZ"
      },
      "execution_count": null,
      "outputs": []
    },
    {
      "cell_type": "markdown",
      "source": [
        "# Extract target phonemes"
      ],
      "metadata": {
        "id": "xlETQBJpDJVB"
      }
    },
    {
      "cell_type": "markdown",
      "source": [
        "Locate all the target phonemes, and save their VCV structures and time metadata into a dataframe CSV file."
      ],
      "metadata": {
        "id": "btRhrre3MBr6"
      }
    },
    {
      "cell_type": "code",
      "source": [
        "target_arpabets = [\n",
        "    \"b\",\n",
        "    \"p\",\n",
        "    \"f\",\n",
        "    \"th\",\n",
        "    \"v\",\n",
        "    \"n\",\n",
        "    \"l\",\n",
        "    \"m\",\n",
        "    \"r\",\n",
        "    \"f\",\n",
        "    \"s\",\n",
        "    \"z\",\n",
        "]\n",
        "\n",
        "vowel_arpabets = [\n",
        "    \"aa\",\n",
        "    \"ae\",\n",
        "    \"ah\",\n",
        "    \"ax-h\",\n",
        "    \"ao\",\n",
        "    \"aw\",\n",
        "    \"ax\",\n",
        "    \"axr\",\n",
        "    \"ey\",\n",
        "    \"eh\",\n",
        "    \"er\",\n",
        "    \"ey\",\n",
        "    \"ih\",\n",
        "    \"ix\",\n",
        "    \"iy\",\n",
        "    \"ow\",\n",
        "    \"oy\",\n",
        "    \"uh\",\n",
        "    \"uw\",\n",
        "    \"ux\",\n",
        "]\n",
        "\n",
        "special_arpabets = [\n",
        "    \"bcl\",\n",
        "    \"pcl\",\n",
        "]"
      ],
      "metadata": {
        "id": "nOs1oE-teZIm"
      },
      "execution_count": null,
      "outputs": []
    },
    {
      "cell_type": "code",
      "source": [
        "def is_valid_vcv_structure(phone_1, phone_2, phone_3, phone_4):\n",
        "    if phone_2 in vowel_arpabets and phone_3 not in vowel_arpabets and phone_4 in vowel_arpabets:\n",
        "        return True\n",
        "    if phone_1 in vowel_arpabets and phone_2 in special_arpabets and phone_3 not in vowel_arpabets and phone_4 in vowel_arpabets:\n",
        "        return True\n",
        "    return False\n",
        "\n",
        "def save_phn_test_data_to_df_file():\n",
        "    df = pd.DataFrame(columns=[\n",
        "        \"filepath\",\n",
        "        \"dialect_id\",\n",
        "        \"speaker_id\",\n",
        "        \"sentence_id\",\n",
        "        \"start_time1\",\n",
        "        \"start_time2\",\n",
        "        \"start_time3\",\n",
        "        \"start_time4\",\n",
        "        \"end_time\",\n",
        "        \"phone_1\",\n",
        "        \"phone_2\",\n",
        "        \"target_phone\",\n",
        "        \"phone_4\"\n",
        "    ])\n",
        "\n",
        "    for root, dirs, files in os.walk(TEST_DATA_DIR):\n",
        "        # Scan through every file in TEST_DATA_DIR recursively.\n",
        "        for name in files:\n",
        "            filepath = os.path.join(root, name)\n",
        "            # Only PHN files are relevant.\n",
        "            # Do not include duplicate files (denoted by a trailing \"(1)\").\n",
        "            duplicate = \"(\" in filepath and \")\" in name\n",
        "            if filepath[-3:] == \"PHN\" and not duplicate:\n",
        "                with open(filepath, \"r\") as phn_file:\n",
        "                    # Collect all lines in the file at once as a list of strs.\n",
        "                    lines = phn_file.readlines()\n",
        "                    for i, line in enumerate(lines):\n",
        "                        # Remove any newline characters from the strs.\n",
        "                        line_3 = line.replace(\"\\n\", \"\")\n",
        "                        for target in target_arpabets:\n",
        "                            # Only lines containing the target ARPAbet are relevant.\n",
        "                            # The ARPAbet is the last value stored in each line.\n",
        "                            if line_3.split(\" \")[-1] == target:\n",
        "                                # Remove any newline characters from the strs.\n",
        "                                line_1 = lines[i - 2].replace(\"\\n\", \"\")\n",
        "                                line_2 = lines[i - 1].replace(\"\\n\", \"\")\n",
        "                                line_4 = lines[i + 1].replace(\"\\n\", \"\")\n",
        "                                # Store the relevant data from each line into the dataframe.\n",
        "                                phone_1 = line_1.split(\" \")[2]\n",
        "                                phone_2 = line_2.split(\" \")[2]\n",
        "                                phone_3 = line_3.split(\" \")[2]\n",
        "                                phone_4 = line_4.split(\" \")[2]\n",
        "                                if is_valid_vcv_structure(phone_1, phone_2, phone_3, phone_4):\n",
        "                                    # Add a new row of data to the end of the dataframe.\n",
        "                                    df.loc[len(df)] = {\n",
        "                                        \"filepath\": filepath,\n",
        "                                        \"dialect_id\": filepath.split(\"/\")[-3],\n",
        "                                        \"speaker_id\": filepath.split(\"/\")[-2],\n",
        "                                        \"sentence_id\": filepath.split(\"/\")[-1].split(\".\")[0],\n",
        "                                        \"start_time1\": line_1.split(\" \")[0],\n",
        "                                        \"start_time2\": line_2.split(\" \")[0],\n",
        "                                        \"start_time3\": line_3.split(\" \")[0],\n",
        "                                        \"start_time4\": line_4.split(\" \")[0],\n",
        "                                        \"end_time\": line_4.split(\" \")[1],\n",
        "                                        \"phone_1\": phone_1,\n",
        "                                        \"phone_2\": phone_2,\n",
        "                                        \"target_phone\": phone_3,\n",
        "                                        \"phone_4\": phone_4,\n",
        "                                    }\n",
        "\n",
        "    # Preview some data in the dataframe.\n",
        "    print(df)\n",
        "\n",
        "    # Save the dataframe as a CSV file.\n",
        "    print(f\"DataFrame is being saved to file: {DF_FILEPATH}\")\n",
        "    df.to_csv(DF_FILEPATH)"
      ],
      "metadata": {
        "id": "bubrvANhhIXT"
      },
      "execution_count": null,
      "outputs": []
    },
    {
      "cell_type": "markdown",
      "source": [
        "Generating the phoneme dataframe file takes around 7 minutes to run on a Python 3 Google Compute Engine. Do not run if not necessary."
      ],
      "metadata": {
        "id": "lJ1speiWGkMe"
      }
    },
    {
      "cell_type": "code",
      "source": [
        "# Run the function.\n",
        "save_phn_test_data_to_df_file()"
      ],
      "metadata": {
        "colab": {
          "base_uri": "https://localhost:8080/"
        },
        "id": "VPQS5fUf-21h",
        "outputId": "651afd93-c97d-4399-c499-e9d4d246efa8"
      },
      "execution_count": null,
      "outputs": [
        {
          "output_type": "stream",
          "name": "stdout",
          "text": [
            "                                               filepath dialect_id speaker_id  \\\n",
            "0     /content/drive/MyDrive/TIMIT/TIMIT/TEST/DR6/MR...        DR6      MRJR0   \n",
            "1     /content/drive/MyDrive/TIMIT/TIMIT/TEST/DR6/MR...        DR6      MRJR0   \n",
            "2     /content/drive/MyDrive/TIMIT/TIMIT/TEST/DR6/MR...        DR6      MRJR0   \n",
            "3     /content/drive/MyDrive/TIMIT/TIMIT/TEST/DR6/MR...        DR6      MRJR0   \n",
            "4     /content/drive/MyDrive/TIMIT/TIMIT/TEST/DR6/MR...        DR6      MRJR0   \n",
            "...                                                 ...        ...        ...   \n",
            "4480  /content/drive/MyDrive/TIMIT/TIMIT/TEST/DR4/MT...        DR4      MTLS0   \n",
            "4481  /content/drive/MyDrive/TIMIT/TIMIT/TEST/DR4/MT...        DR4      MTLS0   \n",
            "4482  /content/drive/MyDrive/TIMIT/TIMIT/TEST/DR4/MT...        DR4      MTLS0   \n",
            "4483  /content/drive/MyDrive/TIMIT/TIMIT/TEST/DR4/MT...        DR4      MTLS0   \n",
            "4484  /content/drive/MyDrive/TIMIT/TIMIT/TEST/DR4/MT...        DR4      MTLS0   \n",
            "\n",
            "     sentence_id start_time1 start_time2 start_time3 start_time4 end_time  \\\n",
            "0         SI1182        7018        7480        8520       10120    11284   \n",
            "1         SI1182        7018        7480        8520       10120    11284   \n",
            "2            SA1       28490       29201       30621       32250    33754   \n",
            "3           SX12        7394        9859       10443       10694    11480   \n",
            "4           SX12       18880       20344       21932       22851    25240   \n",
            "...          ...         ...         ...         ...         ...      ...   \n",
            "4480       SX290       29242       30036       30997       33420    34600   \n",
            "4481       SX290       33420       34600       35625       36170    36760   \n",
            "4482       SX110        2803        3320        4142        4353     6680   \n",
            "4483       SX110       11980       12750       13334       14245    18960   \n",
            "4484       SX110       26250       26940       27470       29618    31960   \n",
            "\n",
            "     phone_1 phone_2 target_phone phone_4  \n",
            "0          d      ix            f     axr  \n",
            "1          d      ix            f     axr  \n",
            "2          r      iy            s      iy  \n",
            "3         aa     bcl            b      ix  \n",
            "4          y      eh            l      ow  \n",
            "...      ...     ...          ...     ...  \n",
            "4480       t      ix            f      er  \n",
            "4481      er     pcl            p     axr  \n",
            "4482      ax     bcl            b      eh  \n",
            "4483       t      ax            l      er  \n",
            "4484       t      ix            s      aa  \n",
            "\n",
            "[4485 rows x 13 columns]\n",
            "DataFrame is being saved to file: /content/drive/MyDrive/TIMIT-arpabets.csv\n"
          ]
        }
      ]
    },
    {
      "cell_type": "markdown",
      "source": [
        "# Cut audio files into sound files"
      ],
      "metadata": {
        "id": "OYfmt6cPDbHQ"
      }
    },
    {
      "cell_type": "markdown",
      "source": [
        "For each eligible VCV phoneme combination, cut their audio files into sound files."
      ],
      "metadata": {
        "id": "NhCuoAPsL21D"
      }
    },
    {
      "cell_type": "code",
      "source": [
        "# import numpy as np\n",
        "\n",
        "# This function takes an audio segment (1d array) as input, applies rise and fall\n",
        "# at the beginning and end and returns the thus processed audio segment\n",
        "# audio: 1d array\n",
        "# fs: sampling frequency (sampling rate)\n",
        "# duration: duration of the rise and fall in seconds\n",
        "\n",
        "# def addRiseFall(audio,fs,duration = 0.005):\n",
        "#   duration = int(duration * fs) # convert duration of rise and fall times from seconds to samples\n",
        "#   d        = len(audio) # duration of the whole audio signal in samples\n",
        "#   weight   = np.arange(duration) / duration # linear rise and fall times\n",
        "#   w        = np.hanning(duration*2) # more frequently used Hann window\n",
        "#   weight   = w[:duration]\n",
        "#   audio[:duration]  = audio[:duration] * weight\n",
        "#   audio[-duration:] = audio[-duration:] * np.flip(weight)\n",
        "#   return audio\n",
        "\n",
        "# audio = example_audio[int(0.5*sample_rate):int(0.6*sample_rate)] # for the example, cut 100 ms of the wave file, then apply 25-ms long rise and fall times\n",
        "# audio = addRiseFall(audio, sample_rate,duration = 0.025)\n",
        "# plot_audio(audio, sample_rate)\n",
        "# plt.show()"
      ],
      "metadata": {
        "id": "-R4TCFYhaB_D"
      },
      "execution_count": null,
      "outputs": []
    },
    {
      "cell_type": "markdown",
      "source": [
        "Cutting audio files takes around 7 minutes to run on a Python 3 Google Compute Engine. Do not run if not necessary."
      ],
      "metadata": {
        "id": "-hfHRjTLL5Nd"
      }
    },
    {
      "cell_type": "code",
      "source": [
        "# Assume that previous cells have been run before and the dataframe exists.\n",
        "# Read the saved PHN test data file.\n",
        "df = pd.read_csv(DF_FILEPATH)\n",
        "\n",
        "if not os.path.exists(SOUND_FILES_DIR):\n",
        "    # Create the SOUND_FILES_DIR directory if it doesn't already exist.\n",
        "    # Otherwise, this will trigger a directory-not-found exception below.\n",
        "    os.makedirs(SOUND_FILES_DIR)\n",
        "else:\n",
        "    raise Exception(f\"SOUND_FILES_DIR already exists: {SOUND_FILES_DIR}\")\n",
        "\n",
        "sound_files_stats_df = pd.DataFrame(columns=[\"target_phone\", \"file_count\"])\n",
        "sound_files_df = pd.DataFrame(columns=[\"filepath\",\"target_phone\"])\n",
        "\n",
        "# Keep track of how many files there are for each target phoneme.\n",
        "file_count_dict = {}\n",
        "\n",
        "# Keep track of the latest unique ID that has been assigned.\n",
        "sound_unique_id_counter = 0\n",
        "sound_unique_id_padding = 5\n",
        "# See https://research.google.com/colaboratory/faq.html#drive-quota.\n",
        "max_sound_unique_id = 20000\n",
        "\n",
        "for index, row in list(df.iterrows()):\n",
        "    vcv_audio_duration = (row[\"end_time\"] - row[\"start_time2\"]) / 16000 * 1000\n",
        "    vc_audio_duration = (row[\"start_time4\"] - row[\"start_time2\"]) / 16000 * 1000\n",
        "    cv_audio_duration = (row[\"end_time\"] - row[\"start_time3\"]) / 16000 * 1000\n",
        "\n",
        "    if vcv_audio_duration >= 200:\n",
        "        audio_filepath = row[\"filepath\"].replace(\"PHN\", \"WAV\")\n",
        "        sound = AudioSegment.from_wav(audio_filepath)\n",
        "\n",
        "        for cut_duration in [25, 50, 100, 200]:\n",
        "            if cut_duration == 25:\n",
        "                sound = sound + 6\n",
        "            if cut_duration == 50:\n",
        "                sound = sound + 3\n",
        "\n",
        "            if cv_audio_duration >= cut_duration:\n",
        "                startTime = row[\"start_time3\"] / 16000 * 1000\n",
        "                endTime = startTime + cut_duration\n",
        "            else:\n",
        "                endTime = row[\"end_time\"] / 16000 * 1000\n",
        "                startTime = endTime - cut_duration\n",
        "\n",
        "            # Cut the audio file by the desired amount.\n",
        "            extract = sound[startTime:endTime]\n",
        "            extract = extract.fade_in(5).fade_out(5)\n",
        "\n",
        "            target_phone_dir = os.path.join(\n",
        "                SOUND_FILES_DIR,\n",
        "                row[\"target_phone\"]\n",
        "            )\n",
        "            if not os.path.exists(target_phone_dir):\n",
        "                # Create the target phoneme directory if it doesn't already exist.\n",
        "                # Otherwise, this will trigger a directory-not-found exception below.\n",
        "                os.makedirs(target_phone_dir)\n",
        "\n",
        "            # Save the cut sound file in SOUND_FILES_DIR.\n",
        "            sound_unique_id_counter += 1\n",
        "            if sound_unique_id_counter > max_sound_unique_id:\n",
        "                break\n",
        "\n",
        "            unique_id = str(sound_unique_id_counter).zfill(sound_unique_id_padding)\n",
        "            sound_filepath = os.path.join(target_phone_dir,\n",
        "                f\"{unique_id}_{row['dialect_id']}_{row['speaker_id']}_{row['sentence_id']}_{row['phone_1']}_{row['phone_2']}_{row['target_phone']}_{row['phone_4']}_{cut_duration}.WAV\"\n",
        "            )\n",
        "            extract.export(\n",
        "                sound_filepath,\n",
        "                format=\"wav\"\n",
        "            )\n",
        "\n",
        "            sound_files_df.loc[len(sound_files_df)] = {\n",
        "                \"filepath\": sound_filepath,\n",
        "                \"target_phone\": row[\"target_phone\"],\n",
        "            }\n",
        "\n",
        "\n",
        "            if row[\"target_phone\"] not in file_count_dict:\n",
        "                file_count_dict[row[\"target_phone\"]] =  1\n",
        "            else:\n",
        "                file_count_dict[row[\"target_phone\"]] += 1\n",
        "\n",
        "\n",
        "for target_phone, file_count in file_count_dict.items():\n",
        "    # Add a new row of data to the end of the dataframe.\n",
        "    sound_files_stats_df.loc[len(sound_files_stats_df)] = {\n",
        "        \"target_phone\": target_phone,\n",
        "        \"file_count\": file_count,\n",
        "    }\n",
        "\n",
        "sound_files_stats_df.to_csv(SOUND_FILES_STATS_DF_FILEPATH, index=False)\n",
        "sound_files_df.to_csv(SOUND_FILES_DF_FILEPATH, index=False)\n",
        "\n",
        "# Preview some data in the dataframe.\n",
        "print(sound_files_stats_df)\n",
        "print(sound_files_df)"
      ],
      "metadata": {
        "id": "zU9zwBknMvVL",
        "colab": {
          "base_uri": "https://localhost:8080/"
        },
        "outputId": "0008fd1b-9d64-4303-ff48-7fcf6b33b51a"
      },
      "execution_count": null,
      "outputs": [
        {
          "output_type": "stream",
          "name": "stdout",
          "text": [
            "   target_phone  file_count\n",
            "0             f        1912\n",
            "1             s        1988\n",
            "2             l        2228\n",
            "3             p         496\n",
            "4             r        2096\n",
            "5             n        1464\n",
            "6             v         728\n",
            "7             m        1156\n",
            "8             z         936\n",
            "9            th         224\n",
            "10            b         384\n",
            "                                                filepath target_phone\n",
            "0      /content/drive/MyDrive/TIMIT-cut-sounds/f/0000...            f\n",
            "1      /content/drive/MyDrive/TIMIT-cut-sounds/f/0000...            f\n",
            "2      /content/drive/MyDrive/TIMIT-cut-sounds/f/0000...            f\n",
            "3      /content/drive/MyDrive/TIMIT-cut-sounds/f/0000...            f\n",
            "4      /content/drive/MyDrive/TIMIT-cut-sounds/f/0000...            f\n",
            "...                                                  ...          ...\n",
            "13607  /content/drive/MyDrive/TIMIT-cut-sounds/l/1360...            l\n",
            "13608  /content/drive/MyDrive/TIMIT-cut-sounds/s/1360...            s\n",
            "13609  /content/drive/MyDrive/TIMIT-cut-sounds/s/1361...            s\n",
            "13610  /content/drive/MyDrive/TIMIT-cut-sounds/s/1361...            s\n",
            "13611  /content/drive/MyDrive/TIMIT-cut-sounds/s/1361...            s\n",
            "\n",
            "[13612 rows x 2 columns]\n"
          ]
        }
      ]
    },
    {
      "cell_type": "markdown",
      "source": [
        "Choose some sample sound files and plot their sound waves."
      ],
      "metadata": {
        "id": "THKy66LbPHVx"
      }
    },
    {
      "cell_type": "code",
      "source": [
        "def plot_cut_sound_wave(filename):\n",
        "    spf = wave.open(filename, \"r\")\n",
        "\n",
        "    signal = spf.readframes(-1)\n",
        "    signal = np.fromstring(signal, \"int16\")\n",
        "\n",
        "    if spf.getnchannels() == 2:\n",
        "        raise Exception(f\"Only mono-channel audio files are supported: {filename}\")\n",
        "\n",
        "    plt.figure(1, figsize=(5, 3))\n",
        "    plt.title(filename)\n",
        "    plt.plot(signal)\n",
        "    plt.show()"
      ],
      "metadata": {
        "id": "nscntB3iP3BE"
      },
      "execution_count": null,
      "outputs": []
    },
    {
      "cell_type": "code",
      "source": [
        "# FIXME: Only sample files belonging to the same target phoneme are allowed.\n",
        "sample_sound_filenames = [\n",
        "    \"0073_DR8_MAJC0_SX205_ow_bcl_b_ey_25.WAV\",\n",
        "    \"1261_DR1_FAKS0_SX313_ax_bcl_b_aa_25.WAV\",\n",
        "    \"0367_DR8_MDAW1_SI2083_ax_bcl_b_ah_100.WAV\",\n",
        "    \"0810_DR8_MJTC0_SX110_ax_bcl_b_eh_50.WAV\",\n",
        "]\n",
        "sample_phone = \"b\"\n",
        "\n",
        "for sample_sound_filename in sample_sound_filenames:\n",
        "    plot_cut_sound_wave(os.path.join(SOUND_FILES_DIR, sample_phone, sample_sound_filename))"
      ],
      "metadata": {
        "colab": {
          "base_uri": "https://localhost:8080/",
          "height": 1000
        },
        "id": "W1RsdRcJn1Xu",
        "outputId": "d1ac2b3a-8675-41a4-f5d9-e2285827d14d"
      },
      "execution_count": null,
      "outputs": [
        {
          "output_type": "stream",
          "name": "stderr",
          "text": [
            "<ipython-input-14-e17fdf1bd10b>:5: DeprecationWarning: The binary mode of fromstring is deprecated, as it behaves surprisingly on unicode inputs. Use frombuffer instead\n",
            "  signal = np.fromstring(signal, \"int16\")\n"
          ]
        },
        {
          "output_type": "display_data",
          "data": {
            "text/plain": [
              "<Figure size 500x300 with 1 Axes>"
            ],
            "image/png": "[encoded data removed]"
          },
          "metadata": {}
        },
        {
          "output_type": "display_data",
          "data": {
            "text/plain": [
              "<Figure size 500x300 with 1 Axes>"
            ],
            "image/png": "[encoded data removed]"
          },
          "metadata": {}
        },
        {
          "output_type": "display_data",
          "data": {
            "text/plain": [
              "<Figure size 500x300 with 1 Axes>"
            ],
            "image/png": "[encoded data removed]"
          },
          "metadata": {}
        },
        {
          "output_type": "display_data",
          "data": {
            "text/plain": [
              "<Figure size 500x300 with 1 Axes>"
            ],
            "image/png": "[encoded data removed]"
          },
          "metadata": {}
        }
      ]
    },
    {
      "cell_type": "markdown",
      "source": [
        "# Map and filter sound files"
      ],
      "metadata": {
        "id": "BF28ia_Ps6oj"
      }
    },
    {
      "cell_type": "markdown",
      "source": [
        "Create a script to keep a map between test audios and its original naming.\n",
        "\n",
        "Mapping sound files takes around 9 minutes to run on a Python 3 Google Compute Engine. Do not run if not necessary."
      ],
      "metadata": {
        "id": "XKET_Z04cb26"
      }
    },
    {
      "cell_type": "code",
      "source": [
        "# Assume that previous cells have been run before and the dataframe exists.\n",
        "sound_files_df = pd.read_csv(SOUND_FILES_DF_FILEPATH)\n",
        "\n",
        "if not os.path.exists(MAPPED_SOUND_FILES_DIR):\n",
        "    # Create the MAPPED_SOUND_FILES_DIR directory if it doesn't already exist.\n",
        "    # Otherwise, this will trigger a directory-not-found exception below.\n",
        "    os.makedirs(MAPPED_SOUND_FILES_DIR)\n",
        "else:\n",
        "    raise Exception(f\"MAPPED_SOUND_FILES_DIR already exists: {MAPPED_SOUND_FILES_DIR}\")\n",
        "\n",
        "mapped_sound_files_df = pd.DataFrame(columns=[\n",
        "    \"new_filepath\",\n",
        "    \"old_filepath\",\n",
        "    \"target_phone\"\n",
        "])\n",
        "\n",
        "# Remove any rows that do not correspond to the desired target phonemes.\n",
        "target_phones = [\"b\", \"p\", \"m\", \"n\", \"l\", \"v\"]\n",
        "\n",
        "# FIXME: Assumes dataframe rows have already been grouped by long ID,\n",
        "# i.e. dialect ID + speaker ID + sentence ID.\n",
        "curr_long_ids = {}\n",
        "long_id_counters = {}\n",
        "max_long_id_counter = 96\n",
        "long_id_number_padding = 4\n",
        "for target_phone in target_phones:\n",
        "    curr_long_ids[target_phone] = \"\"\n",
        "    long_id_counters[target_phone] = 0\n",
        "\n",
        "for index, row in list(sound_files_df.iterrows()):\n",
        "    filepath = row[\"filepath\"]\n",
        "    target_phone = row[\"target_phone\"]\n",
        "    if target_phone in target_phones:\n",
        "        # This target_phone is one that we want.\n",
        "        filepath_parts = filepath.split(\"_\")\n",
        "        long_id = \"_\".join(filepath_parts[-8:-1])\n",
        "        cut_duration = filepath_parts[-1].replace(\".WAV\", \"\")\n",
        "\n",
        "        # Generate the new file name for the duplicate of this sound file.\n",
        "        if long_id != curr_long_ids[target_phone]:\n",
        "            curr_long_ids[target_phone] = long_id\n",
        "            long_id_counters[target_phone] += 1\n",
        "        long_id_number = long_id_counters[target_phone]\n",
        "\n",
        "        # Limit the number of sound files copied because of data processing speed problems with Google Drive.\n",
        "        if long_id_number <= max_long_id_counter:\n",
        "            long_id_number = str(long_id_number).zfill(long_id_number_padding)\n",
        "            new_filepath = os.path.join(\n",
        "                MAPPED_SOUND_FILES_DIR,\n",
        "                f\"{target_phone}_{long_id_number}_{cut_duration}.WAV\"\n",
        "            )\n",
        "\n",
        "            # Duplicate the sound file to a new destination.\n",
        "            shutil.copy(filepath, new_filepath)\n",
        "\n",
        "            # Add a new row of data to the end of the dataframe.\n",
        "            mapped_sound_files_df.loc[len(mapped_sound_files_df)] = {\n",
        "                \"new_filepath\": new_filepath,\n",
        "                \"old_filepath\": filepath,\n",
        "                \"target_phone\": target_phone\n",
        "            }\n",
        "\n",
        "mapped_sound_files_df.to_csv(MAPPED_SOUND_FILES_DF_FILEPATH, index=False)\n",
        "\n",
        "# Preview some data in the dataframe.\n",
        "print(mapped_sound_files_df)"
      ],
      "metadata": {
        "id": "xxBlQOM9cYE_",
        "colab": {
          "base_uri": "https://localhost:8080/"
        },
        "outputId": "7e49fcb6-cc93-4139-b733-3c5494e06120"
      },
      "execution_count": null,
      "outputs": [
        {
          "output_type": "stream",
          "name": "stdout",
          "text": [
            "                                           new_filepath  \\\n",
            "0     /content/drive/MyDrive/TIMIT-mapped-cut-sounds...   \n",
            "1     /content/drive/MyDrive/TIMIT-mapped-cut-sounds...   \n",
            "2     /content/drive/MyDrive/TIMIT-mapped-cut-sounds...   \n",
            "3     /content/drive/MyDrive/TIMIT-mapped-cut-sounds...   \n",
            "4     /content/drive/MyDrive/TIMIT-mapped-cut-sounds...   \n",
            "...                                                 ...   \n",
            "2299  /content/drive/MyDrive/TIMIT-mapped-cut-sounds...   \n",
            "2300  /content/drive/MyDrive/TIMIT-mapped-cut-sounds...   \n",
            "2301  /content/drive/MyDrive/TIMIT-mapped-cut-sounds...   \n",
            "2302  /content/drive/MyDrive/TIMIT-mapped-cut-sounds...   \n",
            "2303  /content/drive/MyDrive/TIMIT-mapped-cut-sounds...   \n",
            "\n",
            "                                           old_filepath target_phone  \n",
            "0     /content/drive/MyDrive/TIMIT-cut-sounds/l/0001...            l  \n",
            "1     /content/drive/MyDrive/TIMIT-cut-sounds/l/0001...            l  \n",
            "2     /content/drive/MyDrive/TIMIT-cut-sounds/l/0001...            l  \n",
            "3     /content/drive/MyDrive/TIMIT-cut-sounds/l/0001...            l  \n",
            "4     /content/drive/MyDrive/TIMIT-cut-sounds/l/0001...            l  \n",
            "...                                                 ...          ...  \n",
            "2299  /content/drive/MyDrive/TIMIT-cut-sounds/b/1349...            b  \n",
            "2300  /content/drive/MyDrive/TIMIT-cut-sounds/b/1360...            b  \n",
            "2301  /content/drive/MyDrive/TIMIT-cut-sounds/b/1360...            b  \n",
            "2302  /content/drive/MyDrive/TIMIT-cut-sounds/b/1360...            b  \n",
            "2303  /content/drive/MyDrive/TIMIT-cut-sounds/b/1360...            b  \n",
            "\n",
            "[2304 rows x 3 columns]\n"
          ]
        }
      ]
    },
    {
      "cell_type": "markdown",
      "source": [
        "TODO: Commented code for reference only."
      ],
      "metadata": {
        "id": "LzlUAIgWPBxC"
      }
    },
    {
      "cell_type": "code",
      "source": [
        "# for index, row in list(sound_files_df.iterrows()):\n",
        "#     filepath = row[\"filepath\"]\n",
        "#     target_phone = row[\"target_phone\"]\n",
        "#     if target_phone in [\"b\", \"p\", \"m\", \"n\", \"l\", \"v\"]:\n",
        "#         # This target_phone is one that we want.\n",
        "#         filepath_parts = filepath.split(\"_\")\n",
        "#         long_id = \"_\".join(filepath_parts[-8:-5])\n",
        "#         cut_duration = filepath_parts[-1].replace(\".WAV\", \"\")\n",
        "\n",
        "#         # Generate the new file name for the duplicate of this sound file.\n",
        "#         long_id_number = long_id_dict[long_id]\n",
        "#         long_id_number = str(long_id_number).zfill(4)\n",
        "#         new_filepath = os.path.join(\n",
        "#             \"/content/drive/MyDrive/\",\n",
        "#             f\"{target_phone}_{cut_duration}_{long_id_number}.WAV\"\n",
        "#         )\n",
        "\n",
        "#         if os.path.exists(new_filepath):\n",
        "#             os.remove(new_filepath)"
      ],
      "metadata": {
        "id": "3b2QN4JB0ems"
      },
      "execution_count": null,
      "outputs": []
    },
    {
      "cell_type": "code",
      "source": [
        "# # Change this depending on how your data folder is structured.\n",
        "# TEST_DATA_DIR = os.path.join(NOTEBOOK_DIR, \"TIMIT\", \"TIMIT\", \"TEST\")\n",
        "# print(\"SA1:\")\n",
        "# audio = os.path.join(TEST_DATA_DIR, \"DR3\",\"FKMS0\",\"SA1.WAV\")\n",
        "# Audio(os.path.join(TEST_DATA_DIR, \"DR3\",\"FKMS0\",\"SA1.WAV\"))\n",
        "\n",
        "\n",
        "# audio = os.path.join(TEST_DATA_DIR, \"DR3\",\"FKMS0\",\"SA1.WAV\")\n",
        "\n",
        "# #importing file from location by giving its path\n",
        "# sound = AudioSegment.from_wav(audio)\n",
        "# #Selecting Portion we want to cut\n",
        "# StrtMin = 0\n",
        "# StrtSec = 1.523\n",
        "# EndMin = 0\n",
        "# EndSec = 1.548\n",
        "# # Time to milliseconds conversion\n",
        "# StrtTime = StrtMin*60*1000+StrtSec*1000\n",
        "# EndTime = StrtMin*60*1000+EndSec*1000\n",
        "# # Opening file and extracting portion of it\n",
        "# extract = sound[StrtTime:EndTime]\n",
        "# # Saving file in required location\n",
        "# extract.export(os.path.join(NOTEBOOK_DIR,\"iysiy_25.WAV\"), format=\"wav\")\n",
        "# # new file portion.mp3 is saved at required location\n",
        "\n",
        "# Audio(os.path.join(NOTEBOOK_DIR,\"iysiy_25.WAV\"))"
      ],
      "metadata": {
        "id": "N0UtfE3WAoek"
      },
      "execution_count": null,
      "outputs": []
    },
    {
      "cell_type": "markdown",
      "source": [
        "# **Task 2: Audio Trimming (Manual)**"
      ],
      "metadata": {
        "id": "KDW04OCzfM5D"
      }
    },
    {
      "cell_type": "markdown",
      "source": [
        "Cut Sample Audio from all targeted phones to certain durations: 20, 50, 100 and 200 ms"
      ],
      "metadata": {
        "id": "tghPKTHGRh7p"
      }
    },
    {
      "cell_type": "markdown",
      "source": [
        "**S from iy_s_iy (DR3_FKMS0_SA1)**"
      ],
      "metadata": {
        "id": "yxUyWGNihkLd"
      }
    },
    {
      "cell_type": "code",
      "source": [
        "# Change this depending on how your data folder is structured.\n",
        "TEST_DATA_DIR = os.path.join(NOTEBOOK_DIR, \"TIMIT\", \"TIMIT\", \"TEST\")\n",
        "print(\"SA1:\")\n",
        "audio = os.path.join(TEST_DATA_DIR, \"DR3\",\"FKMS0\",\"SA1.WAV\")\n",
        "Audio(os.path.join(TEST_DATA_DIR, \"DR3\",\"FKMS0\",\"SA1.WAV\"))\n"
      ],
      "metadata": {
        "id": "rpJyAjfRx1cb"
      },
      "execution_count": null,
      "outputs": []
    },
    {
      "cell_type": "markdown",
      "source": [
        "## **25ms**"
      ],
      "metadata": {
        "id": "zIpRGiROikB3"
      }
    },
    {
      "cell_type": "code",
      "source": [
        "audio = os.path.join(TEST_DATA_DIR, \"DR3\",\"FKMS0\",\"SA1.WAV\")\n",
        "\n",
        "#importing file from location by giving its path\n",
        "sound = AudioSegment.from_wav(audio)\n",
        "#Selecting Portion we want to cut\n",
        "StrtMin = 0\n",
        "StrtSec = 1.523\n",
        "EndMin = 0\n",
        "EndSec = 1.548\n",
        "# Time to milliseconds conversion\n",
        "StrtTime = StrtMin*60*1000+StrtSec*1000\n",
        "EndTime = StrtMin*60*1000+EndSec*1000\n",
        "# Opening file and extracting portion of it\n",
        "extract = sound[StrtTime:EndTime]\n",
        "# Saving file in required location\n",
        "extract.export(os.path.join(NOTEBOOK_DIR,\"iysiy_25.WAV\"), format=\"wav\")\n",
        "# new file portion.mp3 is saved at required location"
      ],
      "metadata": {
        "id": "KthX_FAl0HsL"
      },
      "execution_count": null,
      "outputs": []
    },
    {
      "cell_type": "code",
      "source": [
        "Audio(os.path.join(NOTEBOOK_DIR,\"iysiy_25.WAV\"))"
      ],
      "metadata": {
        "id": "r5Od0SwY1xS5"
      },
      "execution_count": null,
      "outputs": []
    },
    {
      "cell_type": "markdown",
      "source": [
        "## **50ms**"
      ],
      "metadata": {
        "id": "-jEVXK-8irbM"
      }
    },
    {
      "cell_type": "code",
      "source": [
        "audio = os.path.join(TEST_DATA_DIR, \"DR3\",\"FKMS0\",\"SA1.WAV\")\n",
        "\n",
        "#importing file from location by giving its path\n",
        "sound = AudioSegment.from_wav(audio)\n",
        "#Selecting Portion we want to cut\n",
        "StrtMin = 0\n",
        "StrtSec = 1.523\n",
        "EndMin = 0\n",
        "EndSec = 1.573\n",
        "# Time to milliseconds conversion\n",
        "StrtTime = StrtMin*60*1000+StrtSec*1000\n",
        "EndTime = StrtMin*60*1000+EndSec*1000\n",
        "# Opening file and extracting portion of it\n",
        "extract = sound[StrtTime:EndTime]\n",
        "# Saving file in required location\n",
        "extract.export(os.path.join(NOTEBOOK_DIR,\"iysiy_50.WAV\"), format=\"wav\")\n",
        "# new file portion.mp3 is saved at required location"
      ],
      "metadata": {
        "id": "iunTtUVkiuXh"
      },
      "execution_count": null,
      "outputs": []
    },
    {
      "cell_type": "code",
      "source": [
        "Audio(os.path.join(NOTEBOOK_DIR,\"iysiy_50.WAV\"))"
      ],
      "metadata": {
        "id": "z2q5riPmi9KS"
      },
      "execution_count": null,
      "outputs": []
    },
    {
      "cell_type": "markdown",
      "source": [
        "## **100ms**"
      ],
      "metadata": {
        "id": "jOHFtZr8jFyd"
      }
    },
    {
      "cell_type": "code",
      "source": [
        "audio = os.path.join(TEST_DATA_DIR, \"DR3\",\"FKMS0\",\"SA1.WAV\")\n",
        "\n",
        "#importing file from location by giving its path\n",
        "sound = AudioSegment.from_wav(audio)\n",
        "#Selecting Portion we want to cut\n",
        "StrtMin = 0\n",
        "StrtSec = 1.523\n",
        "EndMin = 0\n",
        "EndSec = 1.623\n",
        "# Time to milliseconds conversion\n",
        "StrtTime = StrtMin*60*1000+StrtSec*1000\n",
        "EndTime = StrtMin*60*1000+EndSec*1000\n",
        "# Opening file and extracting portion of it\n",
        "extract = sound[StrtTime:EndTime]\n",
        "# Saving file in required location\n",
        "extract.export(os.path.join(NOTEBOOK_DIR,\"iysiy_100.WAV\"), format=\"wav\")\n",
        "# new file portion.mp3 is saved at required location"
      ],
      "metadata": {
        "colab": {
          "base_uri": "https://localhost:8080/",
          "height": 240
        },
        "outputId": "4d8ebbf2-1302-4110-efff-d6ba04e7f6cf",
        "id": "5N0GXGIHjcwf"
      },
      "execution_count": null,
      "outputs": [
        {
          "output_type": "error",
          "ename": "NameError",
          "evalue": "ignored",
          "traceback": [
            "\u001b[0;31m---------------------------------------------------------------------------\u001b[0m",
            "\u001b[0;31mNameError\u001b[0m                                 Traceback (most recent call last)",
            "\u001b[0;32m<ipython-input-1-9af5368abbaf>\u001b[0m in \u001b[0;36m<cell line: 1>\u001b[0;34m()\u001b[0m\n\u001b[0;32m----> 1\u001b[0;31m \u001b[0maudio\u001b[0m \u001b[0;34m=\u001b[0m \u001b[0mos\u001b[0m\u001b[0;34m.\u001b[0m\u001b[0mpath\u001b[0m\u001b[0;34m.\u001b[0m\u001b[0mjoin\u001b[0m\u001b[0;34m(\u001b[0m\u001b[0mTEST_DATA_DIR\u001b[0m\u001b[0;34m,\u001b[0m \u001b[0;34m\"DR3\"\u001b[0m\u001b[0;34m,\u001b[0m\u001b[0;34m\"FKMS0\"\u001b[0m\u001b[0;34m,\u001b[0m\u001b[0;34m\"SA1.WAV\"\u001b[0m\u001b[0;34m)\u001b[0m\u001b[0;34m\u001b[0m\u001b[0;34m\u001b[0m\u001b[0m\n\u001b[0m\u001b[1;32m      2\u001b[0m \u001b[0;34m\u001b[0m\u001b[0m\n\u001b[1;32m      3\u001b[0m \u001b[0;31m#importing file from location by giving its path\u001b[0m\u001b[0;34m\u001b[0m\u001b[0;34m\u001b[0m\u001b[0m\n\u001b[1;32m      4\u001b[0m \u001b[0msound\u001b[0m \u001b[0;34m=\u001b[0m \u001b[0mAudioSegment\u001b[0m\u001b[0;34m.\u001b[0m\u001b[0mfrom_wav\u001b[0m\u001b[0;34m(\u001b[0m\u001b[0maudio\u001b[0m\u001b[0;34m)\u001b[0m\u001b[0;34m\u001b[0m\u001b[0;34m\u001b[0m\u001b[0m\n\u001b[1;32m      5\u001b[0m \u001b[0;31m#Selecting Portion we want to cut\u001b[0m\u001b[0;34m\u001b[0m\u001b[0;34m\u001b[0m\u001b[0m\n",
            "\u001b[0;31mNameError\u001b[0m: name 'os' is not defined"
          ]
        }
      ]
    },
    {
      "cell_type": "code",
      "source": [
        "Audio(os.path.join(NOTEBOOK_DIR,\"iysiy_100.WAV\"))"
      ],
      "metadata": {
        "id": "Dd_Xl6gKji4M"
      },
      "execution_count": null,
      "outputs": []
    },
    {
      "cell_type": "markdown",
      "source": [
        "## **200ms**"
      ],
      "metadata": {
        "id": "oLAl4akXkN4L"
      }
    },
    {
      "cell_type": "code",
      "source": [
        "audio = os.path.join(TEST_DATA_DIR, \"DR3\",\"FKMS0\",\"SA1.WAV\")\n",
        "\n",
        "#importing file from location by giving its path\n",
        "sound = AudioSegment.from_wav(audio)\n",
        "#Selecting Portion we want to cut\n",
        "StrtMin = 0\n",
        "StrtSec = 1.470\n",
        "EndMin = 0\n",
        "EndSec = 1.670\n",
        "# Time to milliseconds conversion\n",
        "StrtTime = StrtMin*60*1000+StrtSec*1000\n",
        "EndTime = StrtMin*60*1000+EndSec*1000\n",
        "# Opening file and extracting portion of it\n",
        "extract = sound[StrtTime:EndTime]\n",
        "# Saving file in required location\n",
        "extract.export(os.path.join(NOTEBOOK_DIR,\"iysiy_200.WAV\"), format=\"wav\")\n",
        "# new file portion.mp3 is saved at required location"
      ],
      "metadata": {
        "id": "-C86qOjHmHu7"
      },
      "execution_count": null,
      "outputs": []
    },
    {
      "cell_type": "code",
      "source": [
        "Audio(os.path.join(NOTEBOOK_DIR,\"iysiy_200.WAV\"))"
      ],
      "metadata": {
        "id": "8ngDiS9CkLPS"
      },
      "execution_count": null,
      "outputs": []
    },
    {
      "cell_type": "markdown",
      "source": [
        "**b from aa_bcl_b_ix** (DR3_MLNT0_SX12)\n",
        "\n"
      ],
      "metadata": {
        "id": "pr8c17w8p8XB"
      }
    },
    {
      "cell_type": "code",
      "source": [
        "# Change this depending on how your data folder is structured.\n",
        "TEST_DATA_DIR = os.path.join(NOTEBOOK_DIR, \"TIMIT\", \"TIMIT\", \"TEST\")\n",
        "print(\"SX12:\")\n",
        "audio = os.path.join(TEST_DATA_DIR, \"DR3\",\"MLNT0\",\"SX12.WAV\")\n",
        "Audio(os.path.join(TEST_DATA_DIR, \"DR3\",\"MLNT0\",\"SX12.WAV\"))"
      ],
      "metadata": {
        "id": "DCex2omvq78G"
      },
      "execution_count": null,
      "outputs": []
    },
    {
      "cell_type": "markdown",
      "source": [
        "## **25ms**"
      ],
      "metadata": {
        "id": "l6bA_QZVqz6w"
      }
    },
    {
      "cell_type": "code",
      "source": [
        "audio = os.path.join(TEST_DATA_DIR, \"DR3\",\"MLNT0\",\"SX12.WAV\")\n",
        "\n",
        "#importing file from location by giving its path\n",
        "sound = AudioSegment.from_wav(audio)\n",
        "#Selecting Portion we want to cut\n",
        "StrtMin = 0\n",
        "StrtSec = 0.7313\n",
        "EndMin = 0\n",
        "EndSec = 0.7563\n",
        "# Time to milliseconds conversion\n",
        "StrtTime = StrtMin*60*1000+StrtSec*1000\n",
        "EndTime = StrtMin*60*1000+EndSec*1000\n",
        "# Opening file and extracting portion of it\n",
        "extract = sound[StrtTime:EndTime]\n",
        "# Saving file in required location\n",
        "extract.export(os.path.join(NOTEBOOK_DIR,\"aabclbix_25.WAV\"), format=\"wav\")\n",
        "# new file portion.mp3 is saved at required location"
      ],
      "metadata": {
        "colab": {
          "base_uri": "https://localhost:8080/",
          "height": 240
        },
        "id": "vXrrYWHdqrGk",
        "outputId": "9a400eac-e113-4ff2-c217-8cc513e74965"
      },
      "execution_count": null,
      "outputs": [
        {
          "output_type": "error",
          "ename": "NameError",
          "evalue": "ignored",
          "traceback": [
            "\u001b[0;31m---------------------------------------------------------------------------\u001b[0m",
            "\u001b[0;31mNameError\u001b[0m                                 Traceback (most recent call last)",
            "\u001b[0;32m<ipython-input-2-bd8111161a60>\u001b[0m in \u001b[0;36m<cell line: 1>\u001b[0;34m()\u001b[0m\n\u001b[0;32m----> 1\u001b[0;31m \u001b[0maudio\u001b[0m \u001b[0;34m=\u001b[0m \u001b[0mos\u001b[0m\u001b[0;34m.\u001b[0m\u001b[0mpath\u001b[0m\u001b[0;34m.\u001b[0m\u001b[0mjoin\u001b[0m\u001b[0;34m(\u001b[0m\u001b[0mTEST_DATA_DIR\u001b[0m\u001b[0;34m,\u001b[0m \u001b[0;34m\"DR3\"\u001b[0m\u001b[0;34m,\u001b[0m\u001b[0;34m\"MLNT0\"\u001b[0m\u001b[0;34m,\u001b[0m\u001b[0;34m\"SX12.WAV\"\u001b[0m\u001b[0;34m)\u001b[0m\u001b[0;34m\u001b[0m\u001b[0;34m\u001b[0m\u001b[0m\n\u001b[0m\u001b[1;32m      2\u001b[0m \u001b[0;34m\u001b[0m\u001b[0m\n\u001b[1;32m      3\u001b[0m \u001b[0;31m#importing file from location by giving its path\u001b[0m\u001b[0;34m\u001b[0m\u001b[0;34m\u001b[0m\u001b[0m\n\u001b[1;32m      4\u001b[0m \u001b[0msound\u001b[0m \u001b[0;34m=\u001b[0m \u001b[0mAudioSegment\u001b[0m\u001b[0;34m.\u001b[0m\u001b[0mfrom_wav\u001b[0m\u001b[0;34m(\u001b[0m\u001b[0maudio\u001b[0m\u001b[0;34m)\u001b[0m\u001b[0;34m\u001b[0m\u001b[0;34m\u001b[0m\u001b[0m\n\u001b[1;32m      5\u001b[0m \u001b[0;31m#Selecting Portion we want to cut\u001b[0m\u001b[0;34m\u001b[0m\u001b[0;34m\u001b[0m\u001b[0m\n",
            "\u001b[0;31mNameError\u001b[0m: name 'os' is not defined"
          ]
        }
      ]
    },
    {
      "cell_type": "code",
      "source": [
        "Audio(os.path.join(NOTEBOOK_DIR,\"aabclbix_25.WAV\"))"
      ],
      "metadata": {
        "colab": {
          "base_uri": "https://localhost:8080/",
          "height": 169
        },
        "id": "Lcz22q7CsVqW",
        "outputId": "6ff783e5-bd2e-441f-9297-86fdb2270306"
      },
      "execution_count": null,
      "outputs": [
        {
          "output_type": "error",
          "ename": "NameError",
          "evalue": "ignored",
          "traceback": [
            "\u001b[0;31m---------------------------------------------------------------------------\u001b[0m",
            "\u001b[0;31mNameError\u001b[0m                                 Traceback (most recent call last)",
            "\u001b[0;32m<ipython-input-3-16cad0a83c13>\u001b[0m in \u001b[0;36m<cell line: 1>\u001b[0;34m()\u001b[0m\n\u001b[0;32m----> 1\u001b[0;31m \u001b[0mAudio\u001b[0m\u001b[0;34m(\u001b[0m\u001b[0mos\u001b[0m\u001b[0;34m.\u001b[0m\u001b[0mpath\u001b[0m\u001b[0;34m.\u001b[0m\u001b[0mjoin\u001b[0m\u001b[0;34m(\u001b[0m\u001b[0mNOTEBOOK_DIR\u001b[0m\u001b[0;34m,\u001b[0m\u001b[0;34m\"aabclbix_25.WAV\"\u001b[0m\u001b[0;34m)\u001b[0m\u001b[0;34m)\u001b[0m\u001b[0;34m\u001b[0m\u001b[0;34m\u001b[0m\u001b[0m\n\u001b[0m",
            "\u001b[0;31mNameError\u001b[0m: name 'Audio' is not defined"
          ]
        }
      ]
    },
    {
      "cell_type": "markdown",
      "source": [
        "## **50ms**"
      ],
      "metadata": {
        "id": "3SJ8UFmrtsyD"
      }
    },
    {
      "cell_type": "code",
      "source": [
        "audio = os.path.join(TEST_DATA_DIR, \"DR3\",\"MLNT0\",\"SX12.WAV\")\n",
        "\n",
        "#importing file from location by giving its path\n",
        "sound = AudioSegment.from_wav(audio)\n",
        "#Selecting Portion we want to cut\n",
        "StrtMin = 0\n",
        "StrtSec = 0.6628\n",
        "EndMin = 0\n",
        "EndSec = 0.7128\n",
        "# Time to milliseconds conversion\n",
        "StrtTime = StrtMin*60*1000+StrtSec*1000\n",
        "EndTime = StrtMin*60*1000+EndSec*1000\n",
        "# Opening file and extracting portion of it\n",
        "extract = sound[StrtTime:EndTime]\n",
        "# Saving file in required location\n",
        "extract.export(os.path.join(NOTEBOOK_DIR,\"aabclbix_50.WAV\"), format=\"wav\")\n",
        "# new file portion.mp3 is saved at required location"
      ],
      "metadata": {
        "id": "hPN7Msn8t0iq"
      },
      "execution_count": null,
      "outputs": []
    },
    {
      "cell_type": "code",
      "source": [
        "Audio(os.path.join(NOTEBOOK_DIR,\"aabclbix_50.WAV\"))"
      ],
      "metadata": {
        "id": "3Y-hepX8t1w6"
      },
      "execution_count": null,
      "outputs": []
    },
    {
      "cell_type": "markdown",
      "source": [
        "## **100ms**"
      ],
      "metadata": {
        "id": "el3Z8RYsuPoU"
      }
    },
    {
      "cell_type": "code",
      "source": [
        "audio = os.path.join(TEST_DATA_DIR, \"DR3\",\"MLNT0\",\"SX12.WAV\")\n",
        "\n",
        "#importing file from location by giving its path\n",
        "sound = AudioSegment.from_wav(audio)\n",
        "#Selecting Portion we want to cut\n",
        "StrtMin = 0\n",
        "StrtSec = 0.6628\n",
        "EndMin = 0\n",
        "EndSec = 0.7628\n",
        "# Time to milliseconds conversion\n",
        "StrtTime = StrtMin*60*1000+StrtSec*1000\n",
        "EndTime = StrtMin*60*1000+EndSec*1000\n",
        "# Opening file and extracting portion of it\n",
        "extract = sound[StrtTime:EndTime]\n",
        "# Saving file in required location\n",
        "extract.export(os.path.join(NOTEBOOK_DIR,\"aabclbix_100.WAV\"), format=\"wav\")\n",
        "# new file portion.mp3 is saved at required location"
      ],
      "metadata": {
        "id": "QyrQ3J8fuO__"
      },
      "execution_count": null,
      "outputs": []
    },
    {
      "cell_type": "code",
      "source": [
        "Audio(os.path.join(NOTEBOOK_DIR,\"aabclbix_100.WAV\"))"
      ],
      "metadata": {
        "id": "wiz-ZdmDuXV5"
      },
      "execution_count": null,
      "outputs": []
    },
    {
      "cell_type": "markdown",
      "source": [
        "## **200ms**"
      ],
      "metadata": {
        "id": "dqF9QXw_u-2U"
      }
    },
    {
      "cell_type": "code",
      "source": [
        "audio = os.path.join(TEST_DATA_DIR, \"DR3\",\"MLNT0\",\"SX12.WAV\")\n",
        "\n",
        "#importing file from location by giving its path\n",
        "sound = AudioSegment.from_wav(audio)\n",
        "#Selecting Portion we want to cut\n",
        "StrtMin = 0\n",
        "StrtSec = 0.5563\n",
        "EndMin = 0\n",
        "EndSec = 0.7563\n",
        "# Time to milliseconds conversion\n",
        "StrtTime = StrtMin*60*1000+StrtSec*1000\n",
        "EndTime = StrtMin*60*1000+EndSec*1000\n",
        "# Opening file and extracting portion of it\n",
        "extract = sound[StrtTime:EndTime]\n",
        "# Saving file in required location\n",
        "extract.export(os.path.join(NOTEBOOK_DIR,\"aabclbix_200.WAV\"), format=\"wav\")\n",
        "# new file portion.mp3 is saved at required location"
      ],
      "metadata": {
        "id": "0LAbiVRhvEOD"
      },
      "execution_count": null,
      "outputs": []
    },
    {
      "cell_type": "code",
      "source": [
        "Audio(os.path.join(NOTEBOOK_DIR,\"aabclbix_200.WAV\"))"
      ],
      "metadata": {
        "id": "4Vmc9QyivN89"
      },
      "execution_count": null,
      "outputs": []
    },
    {
      "cell_type": "markdown",
      "source": [
        "## **r from ix_r_aw** (DR3_MLNT0_SI1547)"
      ],
      "metadata": {
        "id": "ygi9Jpp2w55j"
      }
    },
    {
      "cell_type": "code",
      "source": [
        "# Change this depending on how your data folder is structured.\n",
        "TEST_DATA_DIR = os.path.join(NOTEBOOK_DIR, \"TIMIT\", \"TIMIT\", \"TEST\")\n",
        "print(\"SI1574:\")\n",
        "audio = os.path.join(TEST_DATA_DIR, \"DR3\",\"MLNT0\",\"SI1574.WAV\")\n",
        "Audio(os.path.join(TEST_DATA_DIR, \"DR3\",\"MLNT0\",\"SI1574.WAV\"))"
      ],
      "metadata": {
        "id": "hwAAfnARxn5i"
      },
      "execution_count": null,
      "outputs": []
    },
    {
      "cell_type": "markdown",
      "source": [
        "## **25ms**"
      ],
      "metadata": {
        "id": "rGpvNS4KxiwT"
      }
    },
    {
      "cell_type": "code",
      "source": [
        "audio = os.path.join(TEST_DATA_DIR, \"DR3\",\"MLNT0\",\"SI1574.WAV\")\n",
        "\n",
        "#importing file from location by giving its path\n",
        "sound = AudioSegment.from_wav(audio)\n",
        "#Selecting Portion we want to cut\n",
        "StrtMin = 0\n",
        "StrtSec = 1.0325\n",
        "EndMin = 0\n",
        "EndSec = 1.0530\n",
        "# Time to milliseconds conversion\n",
        "StrtTime = StrtMin*60*1000+StrtSec*1000\n",
        "EndTime = StrtMin*60*1000+EndSec*1000\n",
        "sound = sound + 20 #louder by Xdb\n",
        "# Opening file and extracting portion of it\n",
        "extract = sound[StrtTime:EndTime]\n",
        "# Saving file in required location\n",
        "extract.export(os.path.join(NOTEBOOK_DIR,\"ix_r_aw_25.WAV\"), format=\"wav\")\n",
        "# new file portion.mp3 is saved at required location"
      ],
      "metadata": {
        "id": "eem3uSpZxmBu"
      },
      "execution_count": null,
      "outputs": []
    },
    {
      "cell_type": "code",
      "source": [
        "Audio(os.path.join(NOTEBOOK_DIR,\"ix_r_aw_25.WAV\"))"
      ],
      "metadata": {
        "id": "P4e4e3Hzxljs"
      },
      "execution_count": null,
      "outputs": []
    },
    {
      "cell_type": "markdown",
      "source": [
        "## **50ms**"
      ],
      "metadata": {
        "id": "-iuxfxM4zeyX"
      }
    },
    {
      "cell_type": "code",
      "source": [
        "audio = os.path.join(TEST_DATA_DIR, \"DR3\",\"MLNT0\",\"SI1574.WAV\")\n",
        "\n",
        "#importing file from location by giving its path\n",
        "sound = AudioSegment.from_wav(audio)\n",
        "#Selecting Portion we want to cut\n",
        "StrtMin = 0\n",
        "StrtSec = 1.027\n",
        "EndMin = 0\n",
        "EndSec = 1.077\n",
        "# Time to milliseconds conversion\n",
        "StrtTime = StrtMin*60*1000+StrtSec*1000\n",
        "EndTime = StrtMin*60*1000+EndSec*1000\n",
        "# Opening file and extracting portion of it\n",
        "extract = sound[StrtTime:EndTime]\n",
        "# Saving file in required location\n",
        "extract.export(os.path.join(NOTEBOOK_DIR,\"ix_r_aw_50.WAV\"), format=\"wav\")\n",
        "# new file portion.mp3 is saved at required location"
      ],
      "metadata": {
        "id": "1HggAEQCzhZr"
      },
      "execution_count": null,
      "outputs": []
    },
    {
      "cell_type": "code",
      "source": [
        "Audio(os.path.join(NOTEBOOK_DIR,\"ix_r_aw_50.WAV\"))"
      ],
      "metadata": {
        "id": "R29bxju6znyM"
      },
      "execution_count": null,
      "outputs": []
    },
    {
      "cell_type": "markdown",
      "source": [
        "## **100ms**"
      ],
      "metadata": {
        "id": "VnHA3XJ50TeI"
      }
    },
    {
      "cell_type": "code",
      "source": [
        "audio = os.path.join(TEST_DATA_DIR, \"DR3\",\"MLNT0\",\"SI1574.WAV\")\n",
        "\n",
        "#importing file from location by giving its path\n",
        "sound = AudioSegment.from_wav(audio)\n",
        "#Selecting Portion we want to cut\n",
        "StrtMin = 0\n",
        "StrtSec = 1.002\n",
        "EndMin = 0\n",
        "EndSec = 1.102\n",
        "# Time to milliseconds conversion\n",
        "StrtTime = StrtMin*60*1000+StrtSec*1000\n",
        "EndTime = StrtMin*60*1000+EndSec*1000\n",
        "# Opening file and extracting portion of it\n",
        "extract = sound[StrtTime:EndTime]\n",
        "# Saving file in required location\n",
        "extract.export(os.path.join(NOTEBOOK_DIR,\"ix_r_aw_100.WAV\"), format=\"wav\")\n",
        "# new file portion.mp3 is saved at required location"
      ],
      "metadata": {
        "id": "tExZzkLq0aQf"
      },
      "execution_count": null,
      "outputs": []
    },
    {
      "cell_type": "code",
      "source": [
        "Audio(os.path.join(NOTEBOOK_DIR,\"ix_r_aw_100.WAV\"))"
      ],
      "metadata": {
        "id": "ZB5nMGps0tAN"
      },
      "execution_count": null,
      "outputs": []
    },
    {
      "cell_type": "markdown",
      "source": [
        "## **200ms**"
      ],
      "metadata": {
        "id": "WKq294qE0x6z"
      }
    },
    {
      "cell_type": "code",
      "source": [
        "audio = os.path.join(TEST_DATA_DIR, \"DR3\",\"MLNT0\",\"SI1574.WAV\")\n",
        "\n",
        "#importing file from location by giving its path\n",
        "sound = AudioSegment.from_wav(audio)\n",
        "#Selecting Portion we want to cut\n",
        "StrtMin = 0\n",
        "StrtSec = 0.952\n",
        "EndMin = 0\n",
        "EndSec = 1.152\n",
        "# Time to milliseconds conversion\n",
        "StrtTime = StrtMin*60*1000+StrtSec*1000\n",
        "EndTime = StrtMin*60*1000+EndSec*1000\n",
        "# Opening file and extracting portion of it\n",
        "extract = sound[StrtTime:EndTime]\n",
        "# Saving file in required location\n",
        "extract.export(os.path.join(NOTEBOOK_DIR,\"ix_r_aw_200.WAV\"), format=\"wav\")\n",
        "# new file portion.mp3 is saved at required location"
      ],
      "metadata": {
        "id": "ffP0rULZ0z2F"
      },
      "execution_count": null,
      "outputs": []
    },
    {
      "cell_type": "code",
      "source": [
        "Audio(os.path.join(NOTEBOOK_DIR,\"ix_r_aw_200.WAV\"))"
      ],
      "metadata": {
        "id": "jVZnCiRO05wD"
      },
      "execution_count": null,
      "outputs": []
    }
  ]
}